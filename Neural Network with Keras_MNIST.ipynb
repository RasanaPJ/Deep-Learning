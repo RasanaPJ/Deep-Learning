{
  "cells": [
    {
      "metadata": {
        "trusted": true
      },
      "cell_type": "code",
      "source": "from keras.datasets import mnist\nfrom keras.preprocessing.image import load_img, array_to_img\nfrom keras.utils.np_utils import to_categorical\nfrom keras.models import Sequential\nfrom keras.layers import Dense\n\nimport numpy as np\nimport matplotlib.pyplot as plt\n%matplotlib inline",
      "execution_count": 34,
      "outputs": []
    },
    {
      "metadata": {},
      "cell_type": "markdown",
      "source": "## Load the data"
    },
    {
      "metadata": {
        "trusted": true
      },
      "cell_type": "code",
      "source": "(X_train, y_train ), (X_test,y_test) = mnist.load_data()",
      "execution_count": 35,
      "outputs": []
    },
    {
      "metadata": {
        "trusted": true
      },
      "cell_type": "code",
      "source": "print(X_train.shape)\nprint(y_train.shape)\nprint(X_test.shape)\nprint(y_test.shape)",
      "execution_count": 36,
      "outputs": [
        {
          "output_type": "stream",
          "text": "(60000, 28, 28)\n(60000,)\n(10000, 28, 28)\n(10000,)\n",
          "name": "stdout"
        }
      ]
    },
    {
      "metadata": {},
      "cell_type": "markdown",
      "source": "## Understanding the image data format"
    },
    {
      "metadata": {
        "trusted": true
      },
      "cell_type": "code",
      "source": "X_train[0].shape",
      "execution_count": 37,
      "outputs": [
        {
          "output_type": "execute_result",
          "execution_count": 37,
          "data": {
            "text/plain": "(28, 28)"
          },
          "metadata": {}
        }
      ]
    },
    {
      "metadata": {
        "trusted": true
      },
      "cell_type": "code",
      "source": "plt.imshow(X_train[0],cmap='gray')",
      "execution_count": 38,
      "outputs": [
        {
          "output_type": "execute_result",
          "execution_count": 38,
          "data": {
            "text/plain": "<matplotlib.image.AxesImage at 0x7f78b0691710>"
          },
          "metadata": {}
        },
        {
          "output_type": "display_data",
          "data": {
            "image/png": "[encoded data removed]",
            "text/plain": "<Figure size 432x288 with 1 Axes>"
          },
          "metadata": {
            "needs_background": "light"
          }
        }
      ]
    },
    {
      "metadata": {
        "trusted": true
      },
      "cell_type": "code",
      "source": "y_train[0]",
      "execution_count": 39,
      "outputs": [
        {
          "output_type": "execute_result",
          "execution_count": 39,
          "data": {
            "text/plain": "5"
          },
          "metadata": {}
        }
      ]
    },
    {
      "metadata": {},
      "cell_type": "markdown",
      "source": "## Preprocessing image data"
    },
    {
      "metadata": {
        "trusted": true
      },
      "cell_type": "code",
      "source": "image_height, image_width = 28,28",
      "execution_count": 40,
      "outputs": []
    },
    {
      "metadata": {
        "trusted": true
      },
      "cell_type": "code",
      "source": "X_train = X_train.reshape(60000,image_height*image_width)",
      "execution_count": 41,
      "outputs": []
    },
    {
      "metadata": {
        "trusted": true
      },
      "cell_type": "code",
      "source": "X_test = X_test.reshape(10000, image_height*image_width)",
      "execution_count": 42,
      "outputs": []
    },
    {
      "metadata": {
        "trusted": true
      },
      "cell_type": "code",
      "source": "print(X_train.shape)\nprint(X_test.shape)",
      "execution_count": 43,
      "outputs": [
        {
          "output_type": "stream",
          "text": "(60000, 784)\n(10000, 784)\n",
          "name": "stdout"
        }
      ]
    },
    {
      "metadata": {
        "trusted": true
      },
      "cell_type": "code",
      "source": "X_train = X_train.astype('float32')\nX_test = X_test.astype('float32')",
      "execution_count": 44,
      "outputs": []
    },
    {
      "metadata": {
        "trusted": true
      },
      "cell_type": "code",
      "source": "X_train /= 255.0\nX_test /= 255.0",
      "execution_count": 45,
      "outputs": []
    },
    {
      "metadata": {
        "trusted": true
      },
      "cell_type": "code",
      "source": "print(X_train[0])",
      "execution_count": 46,
      "outputs": [
        {
          "output_type": "stream",
          "text": "[0.         0.         0.         0.         0.         0.\n 0.         0.         0.         0.         0.         0.\n 0.         0.         0.         0.         0.         0.\n 0.         0.         0.         0.         0.         0.\n 0.         0.         0.         0.         0.         0.\n 0.         0.         0.         0.         0.         0.\n 0.         0.         0.         0.         0.         0.\n 0.         0.         0.         0.         0.         0.\n 0.         0.         0.         0.         0.         0.\n 0.         0.         0.         0.         0.         0.\n 0.         0.         0.         0.         0.         0.\n 0.         0.         0.         0.         0.         0.\n 0.         0.         0.         0.         0.         0.\n 0.         0.         0.         0.         0.         0.\n 0.         0.         0.         0.         0.         0.\n 0.         0.         0.         0.         0.         0.\n 0.         0.         0.         0.         0.         0.\n 0.         0.         0.         0.         0.         0.\n 0.         0.         0.         0.         0.         0.\n 0.         0.         0.         0.         0.         0.\n 0.         0.         0.         0.         0.         0.\n 0.         0.         0.         0.         0.         0.\n 0.         0.         0.         0.         0.         0.\n 0.         0.         0.         0.         0.         0.\n 0.         0.         0.         0.         0.         0.\n 0.         0.         0.01176471 0.07058824 0.07058824 0.07058824\n 0.49411765 0.53333336 0.6862745  0.10196079 0.6509804  1.\n 0.96862745 0.49803922 0.         0.         0.         0.\n 0.         0.         0.         0.         0.         0.\n 0.         0.         0.11764706 0.14117648 0.36862746 0.6039216\n 0.6666667  0.99215686 0.99215686 0.99215686 0.99215686 0.99215686\n 0.88235295 0.6745098  0.99215686 0.9490196  0.7647059  0.2509804\n 0.         0.         0.         0.         0.         0.\n 0.         0.         0.         0.         0.         0.19215687\n 0.93333334 0.99215686 0.99215686 0.99215686 0.99215686 0.99215686\n 0.99215686 0.99215686 0.99215686 0.9843137  0.3647059  0.32156864\n 0.32156864 0.21960784 0.15294118 0.         0.         0.\n 0.         0.         0.         0.         0.         0.\n 0.         0.         0.         0.07058824 0.85882354 0.99215686\n 0.99215686 0.99215686 0.99215686 0.99215686 0.7764706  0.7137255\n 0.96862745 0.94509804 0.         0.         0.         0.\n 0.         0.         0.         0.         0.         0.\n 0.         0.         0.         0.         0.         0.\n 0.         0.         0.3137255  0.6117647  0.41960785 0.99215686\n 0.99215686 0.8039216  0.04313726 0.         0.16862746 0.6039216\n 0.         0.         0.         0.         0.         0.\n 0.         0.         0.         0.         0.         0.\n 0.         0.         0.         0.         0.         0.\n 0.         0.05490196 0.00392157 0.6039216  0.99215686 0.3529412\n 0.         0.         0.         0.         0.         0.\n 0.         0.         0.         0.         0.         0.\n 0.         0.         0.         0.         0.         0.\n 0.         0.         0.         0.         0.         0.\n 0.         0.54509807 0.99215686 0.74509805 0.00784314 0.\n 0.         0.         0.         0.         0.         0.\n 0.         0.         0.         0.         0.         0.\n 0.         0.         0.         0.         0.         0.\n 0.         0.         0.         0.         0.         0.04313726\n 0.74509805 0.99215686 0.27450982 0.         0.         0.\n 0.         0.         0.         0.         0.         0.\n 0.         0.         0.         0.         0.         0.\n 0.         0.         0.         0.         0.         0.\n 0.         0.         0.         0.         0.13725491 0.94509804\n 0.88235295 0.627451   0.42352942 0.00392157 0.         0.\n 0.         0.         0.         0.         0.         0.\n 0.         0.         0.         0.         0.         0.\n 0.         0.         0.         0.         0.         0.\n 0.         0.         0.         0.31764707 0.9411765  0.99215686\n 0.99215686 0.46666667 0.09803922 0.         0.         0.\n 0.         0.         0.         0.         0.         0.\n 0.         0.         0.         0.         0.         0.\n 0.         0.         0.         0.         0.         0.\n 0.         0.         0.1764706  0.7294118  0.99215686 0.99215686\n 0.5882353  0.10588235 0.         0.         0.         0.\n 0.         0.         0.         0.         0.         0.\n 0.         0.         0.         0.         0.         0.\n 0.         0.         0.         0.         0.         0.\n 0.         0.0627451  0.3647059  0.9882353  0.99215686 0.73333335\n 0.         0.         0.         0.         0.         0.\n 0.         0.         0.         0.         0.         0.\n 0.         0.         0.         0.         0.         0.\n 0.         0.         0.         0.         0.         0.\n 0.         0.9764706  0.99215686 0.9764706  0.2509804  0.\n 0.         0.         0.         0.         0.         0.\n 0.         0.         0.         0.         0.         0.\n 0.         0.         0.         0.         0.         0.\n 0.         0.         0.18039216 0.50980395 0.7176471  0.99215686\n 0.99215686 0.8117647  0.00784314 0.         0.         0.\n 0.         0.         0.         0.         0.         0.\n 0.         0.         0.         0.         0.         0.\n 0.         0.         0.         0.         0.15294118 0.5803922\n 0.8980392  0.99215686 0.99215686 0.99215686 0.98039216 0.7137255\n 0.         0.         0.         0.         0.         0.\n 0.         0.         0.         0.         0.         0.\n 0.         0.         0.         0.         0.         0.\n 0.09411765 0.44705883 0.8666667  0.99215686 0.99215686 0.99215686\n 0.99215686 0.7882353  0.30588236 0.         0.         0.\n 0.         0.         0.         0.         0.         0.\n 0.         0.         0.         0.         0.         0.\n 0.         0.         0.09019608 0.25882354 0.8352941  0.99215686\n 0.99215686 0.99215686 0.99215686 0.7764706  0.31764707 0.00784314\n 0.         0.         0.         0.         0.         0.\n 0.         0.         0.         0.         0.         0.\n 0.         0.         0.         0.         0.07058824 0.67058825\n 0.85882354 0.99215686 0.99215686 0.99215686 0.99215686 0.7647059\n 0.3137255  0.03529412 0.         0.         0.         0.\n 0.         0.         0.         0.         0.         0.\n 0.         0.         0.         0.         0.         0.\n 0.21568628 0.6745098  0.8862745  0.99215686 0.99215686 0.99215686\n 0.99215686 0.95686275 0.52156866 0.04313726 0.         0.\n 0.         0.         0.         0.         0.         0.\n 0.         0.         0.         0.         0.         0.\n 0.         0.         0.         0.         0.53333336 0.99215686\n 0.99215686 0.99215686 0.83137256 0.5294118  0.5176471  0.0627451\n 0.         0.         0.         0.         0.         0.\n 0.         0.         0.         0.         0.         0.\n 0.         0.         0.         0.         0.         0.\n 0.         0.         0.         0.         0.         0.\n 0.         0.         0.         0.         0.         0.\n 0.         0.         0.         0.         0.         0.\n 0.         0.         0.         0.         0.         0.\n 0.         0.         0.         0.         0.         0.\n 0.         0.         0.         0.         0.         0.\n 0.         0.         0.         0.         0.         0.\n 0.         0.         0.         0.         0.         0.\n 0.         0.         0.         0.         0.         0.\n 0.         0.         0.         0.         0.         0.\n 0.         0.         0.         0.         0.         0.\n 0.         0.         0.         0.         0.         0.\n 0.         0.         0.         0.         0.         0.\n 0.         0.         0.         0.        ]\n",
          "name": "stdout"
        }
      ]
    },
    {
      "metadata": {
        "trusted": true
      },
      "cell_type": "code",
      "source": "print(y_train.shape)\nprint(y_test.shape)",
      "execution_count": 47,
      "outputs": [
        {
          "output_type": "stream",
          "text": "(60000,)\n(10000,)\n",
          "name": "stdout"
        }
      ]
    },
    {
      "metadata": {
        "trusted": true
      },
      "cell_type": "code",
      "source": "y_train= to_categorical(y_train,10)\ny_test= to_categorical(y_test,10)",
      "execution_count": 48,
      "outputs": []
    },
    {
      "metadata": {
        "trusted": true
      },
      "cell_type": "code",
      "source": "print(y_train.shape)\nprint(y_test.shape)",
      "execution_count": 49,
      "outputs": [
        {
          "output_type": "stream",
          "text": "(60000, 10)\n(10000, 10)\n",
          "name": "stdout"
        }
      ]
    },
    {
      "metadata": {
        "trusted": true
      },
      "cell_type": "code",
      "source": "print(X_train.shape)\nprint(y_train.shape)\nprint(X_test.shape)\nprint(y_test.shape)",
      "execution_count": 50,
      "outputs": [
        {
          "output_type": "stream",
          "text": "(60000, 784)\n(60000, 10)\n(10000, 784)\n(10000, 10)\n",
          "name": "stdout"
        }
      ]
    },
    {
      "metadata": {},
      "cell_type": "markdown",
      "source": "## Model Building"
    },
    {
      "metadata": {
        "trusted": true
      },
      "cell_type": "code",
      "source": "model = Sequential()",
      "execution_count": 51,
      "outputs": []
    },
    {
      "metadata": {
        "trusted": true
      },
      "cell_type": "code",
      "source": "model.add(Dense(512, activation='relu', input_shape=(784,)))\nmodel.add(Dense(512, activation='relu'))\nmodel.add(Dense(10, activation='softmax'))",
      "execution_count": 52,
      "outputs": []
    },
    {
      "metadata": {},
      "cell_type": "markdown",
      "source": "## Compile the model"
    },
    {
      "metadata": {
        "trusted": true
      },
      "cell_type": "code",
      "source": "model.compile(optimizer='adam', loss='categorical_crossentropy', metrics=['accuracy'])\n",
      "execution_count": 53,
      "outputs": []
    },
    {
      "metadata": {
        "trusted": true
      },
      "cell_type": "code",
      "source": "model.summary()",
      "execution_count": 54,
      "outputs": [
        {
          "output_type": "stream",
          "text": "Model: \"sequential_3\"\n_________________________________________________________________\nLayer (type)                 Output Shape              Param #   \n=================================================================\ndense_4 (Dense)              (None, 512)               401920    \n_________________________________________________________________\ndense_5 (Dense)              (None, 512)               262656    \n_________________________________________________________________\ndense_6 (Dense)              (None, 10)                5130      \n=================================================================\nTotal params: 669,706\nTrainable params: 669,706\nNon-trainable params: 0\n_________________________________________________________________\n",
          "name": "stdout"
        }
      ]
    },
    {
      "metadata": {},
      "cell_type": "markdown",
      "source": "## Train the model"
    },
    {
      "metadata": {
        "trusted": true
      },
      "cell_type": "code",
      "source": "history = model.fit(X_train,y_train, epochs=20, validation_data=(X_test,y_test))",
      "execution_count": 55,
      "outputs": [
        {
          "output_type": "stream",
          "text": "Train on 60000 samples, validate on 10000 samples\nEpoch 1/20\n60000/60000 [==============================] - 29s 478us/step - loss: 0.1845 - accuracy: 0.9434 - val_loss: 0.0983 - val_accuracy: 0.9695\nEpoch 2/20\n60000/60000 [==============================] - 28s 462us/step - loss: 0.0810 - accuracy: 0.9752 - val_loss: 0.0911 - val_accuracy: 0.9728\nEpoch 3/20\n60000/60000 [==============================] - 28s 464us/step - loss: 0.0574 - accuracy: 0.9816 - val_loss: 0.0928 - val_accuracy: 0.9728\nEpoch 4/20\n60000/60000 [==============================] - 27s 458us/step - loss: 0.0418 - accuracy: 0.9865 - val_loss: 0.0862 - val_accuracy: 0.9772\nEpoch 5/20\n60000/60000 [==============================] - 30s 504us/step - loss: 0.0348 - accuracy: 0.9884 - val_loss: 0.0805 - val_accuracy: 0.9785\nEpoch 6/20\n60000/60000 [==============================] - 30s 504us/step - loss: 0.0289 - accuracy: 0.9910 - val_loss: 0.0776 - val_accuracy: 0.9815\nEpoch 7/20\n60000/60000 [==============================] - 31s 524us/step - loss: 0.0245 - accuracy: 0.9924 - val_loss: 0.0863 - val_accuracy: 0.9797\nEpoch 8/20\n60000/60000 [==============================] - 30s 500us/step - loss: 0.0228 - accuracy: 0.9929 - val_loss: 0.0969 - val_accuracy: 0.9796\nEpoch 9/20\n60000/60000 [==============================] - 29s 485us/step - loss: 0.0212 - accuracy: 0.9934 - val_loss: 0.0895 - val_accuracy: 0.9794\nEpoch 10/20\n60000/60000 [==============================] - 28s 472us/step - loss: 0.0169 - accuracy: 0.9947 - val_loss: 0.1068 - val_accuracy: 0.9783\nEpoch 11/20\n60000/60000 [==============================] - 28s 470us/step - loss: 0.0176 - accuracy: 0.9947 - val_loss: 0.1037 - val_accuracy: 0.9802\nEpoch 12/20\n60000/60000 [==============================] - 31s 512us/step - loss: 0.0144 - accuracy: 0.9959 - val_loss: 0.1281 - val_accuracy: 0.9802\nEpoch 13/20\n60000/60000 [==============================] - 36s 594us/step - loss: 0.0160 - accuracy: 0.9952 - val_loss: 0.1225 - val_accuracy: 0.9798\nEpoch 14/20\n60000/60000 [==============================] - 29s 491us/step - loss: 0.0144 - accuracy: 0.9960 - val_loss: 0.0910 - val_accuracy: 0.9830\nEpoch 15/20\n60000/60000 [==============================] - 31s 524us/step - loss: 0.0153 - accuracy: 0.9961 - val_loss: 0.1134 - val_accuracy: 0.9818\nEpoch 16/20\n60000/60000 [==============================] - 28s 461us/step - loss: 0.0125 - accuracy: 0.9962 - val_loss: 0.1472 - val_accuracy: 0.9795\nEpoch 17/20\n60000/60000 [==============================] - 30s 506us/step - loss: 0.0120 - accuracy: 0.9966 - val_loss: 0.1223 - val_accuracy: 0.9808\nEpoch 18/20\n60000/60000 [==============================] - 30s 497us/step - loss: 0.0113 - accuracy: 0.9969 - val_loss: 0.1526 - val_accuracy: 0.9783\nEpoch 19/20\n60000/60000 [==============================] - 32s 538us/step - loss: 0.0166 - accuracy: 0.9959 - val_loss: 0.1303 - val_accuracy: 0.9801\nEpoch 20/20\n60000/60000 [==============================] - 32s 534us/step - loss: 0.0146 - accuracy: 0.9966 - val_loss: 0.1382 - val_accuracy: 0.9796\n",
          "name": "stdout"
        }
      ]
    },
    {
      "metadata": {},
      "cell_type": "markdown",
      "source": "## The accuracy of the model"
    },
    {
      "metadata": {
        "trusted": true
      },
      "cell_type": "code",
      "source": "history.history['accuracy']",
      "execution_count": 63,
      "outputs": [
        {
          "output_type": "execute_result",
          "execution_count": 63,
          "data": {
            "text/plain": "[0.94341666,\n 0.9752167,\n 0.98158336,\n 0.98646665,\n 0.9884,\n 0.9910333,\n 0.9924333,\n 0.9928833,\n 0.99343336,\n 0.99473333,\n 0.99465,\n 0.99588335,\n 0.99525,\n 0.9960167,\n 0.9960833,\n 0.99625,\n 0.99663335,\n 0.99686664,\n 0.9959,\n 0.9966]"
          },
          "metadata": {}
        }
      ]
    },
    {
      "metadata": {
        "trusted": true
      },
      "cell_type": "code",
      "source": "plt.plot(history.history['accuracy'])",
      "execution_count": 64,
      "outputs": [
        {
          "output_type": "execute_result",
          "execution_count": 64,
          "data": {
            "text/plain": "[<matplotlib.lines.Line2D at 0x7f78af150dd8>]"
          },
          "metadata": {}
        },
        {
          "output_type": "display_data",
          "data": {
            "image/png": "[encoded data removed]",
            "text/plain": "<Figure size 432x288 with 1 Axes>"
          },
          "metadata": {
            "needs_background": "light"
          }
        }
      ]
    },
    {
      "metadata": {},
      "cell_type": "markdown",
      "source": "## Accuracy of training and validation with loss"
    },
    {
      "metadata": {
        "trusted": true
      },
      "cell_type": "code",
      "source": "plt.plot(history.history['accuracy'])\nplt.plot(history.history['val_accuracy'])\nplt.plot(history.history['loss'])",
      "execution_count": 66,
      "outputs": [
        {
          "output_type": "execute_result",
          "execution_count": 66,
          "data": {
            "text/plain": "[<matplotlib.lines.Line2D at 0x7f78ae496668>]"
          },
          "metadata": {}
        },
        {
          "output_type": "display_data",
          "data": {
            "image/png": "[encoded data removed]",
            "text/plain": "<Figure size 432x288 with 1 Axes>"
          },
          "metadata": {
            "needs_background": "light"
          }
        }
      ]
    },
    {
      "metadata": {},
      "cell_type": "markdown",
      "source": "## Evaluation of the model"
    },
    {
      "metadata": {},
      "cell_type": "markdown",
      "source": "## Run a Prediction"
    },
    {
      "metadata": {
        "trusted": true
      },
      "cell_type": "code",
      "source": "score = model.evaluate(X_test,y_test)",
      "execution_count": 67,
      "outputs": [
        {
          "output_type": "stream",
          "text": "10000/10000 [==============================] - 1s 109us/step\n",
          "name": "stdout"
        }
      ]
    },
    {
      "metadata": {
        "trusted": true
      },
      "cell_type": "code",
      "source": "score",
      "execution_count": 68,
      "outputs": [
        {
          "output_type": "execute_result",
          "execution_count": 68,
          "data": {
            "text/plain": "[0.13820259328271975, 0.9796000123023987]"
          },
          "metadata": {}
        }
      ]
    },
    {
      "metadata": {},
      "cell_type": "markdown",
      "source": "## The nueral network model predicts with an accuracy of 97.96%"
    },
    {
      "metadata": {
        "trusted": true
      },
      "cell_type": "code",
      "source": "",
      "execution_count": null,
      "outputs": []
    }
  ],
  "metadata": {
    "kernelspec": {
      "name": "python36",
      "display_name": "Python 3.6",
      "language": "python"
    },
    "language_info": {
      "mimetype": "text/x-python",
      "nbconvert_exporter": "python",
      "name": "python",
      "pygments_lexer": "ipython3",
      "version": "3.6.6",
      "file_extension": ".py",
      "codemirror_mode": {
        "version": 3,
        "name": "ipython"
      }
    }
  },
  "nbformat": 4,
  "nbformat_minor": 1
}