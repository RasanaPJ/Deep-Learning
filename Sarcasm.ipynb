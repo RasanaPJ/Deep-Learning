{
  "nbformat": 4,
  "nbformat_minor": 0,
  "metadata": {
    "colab": {
      "name": "Sarcasm.ipynb",
      "provenance": [],
      "collapsed_sections": [],
      "authorship_tag": "ABX9TyNTnnT5NBs8BbDzGwtlM/TG",
      "include_colab_link": true
    },
    "kernelspec": {
      "name": "python3",
      "display_name": "Python 3"
    }
  },
  "cells": [
    {
      "cell_type": "markdown",
      "metadata": {
        "id": "view-in-github",
        "colab_type": "text"
      },
      "source": [
        "<a href=\"https://colab.research.google.com/github/RasanaPJ/Deep-Learning/blob/master/Sarcasm.ipynb\" target=\"_parent\"><img src=\"https://colab.research.google.com/assets/colab-badge.svg\" alt=\"Open In Colab\"/></a>"
      ]
    },
    {
      "cell_type": "code",
      "metadata": {
        "id": "M6VAcAiL523D",
        "colab_type": "code",
        "colab": {}
      },
      "source": [
        "import tensorflow as tf"
      ],
      "execution_count": 0,
      "outputs": []
    },
    {
      "cell_type": "code",
      "metadata": {
        "id": "G-jst--R54Dp",
        "colab_type": "code",
        "colab": {}
      },
      "source": [
        "from tensorflow.keras.preprocessing.text import Tokenizer\n",
        "from tensorflow.keras.preprocessing.sequence import pad_sequences"
      ],
      "execution_count": 0,
      "outputs": []
    },
    {
      "cell_type": "code",
      "metadata": {
        "id": "sUWrg5EU5-gK",
        "colab_type": "code",
        "colab": {}
      },
      "source": [
        "vocab_size=10000\n",
        "embedding_dim=16\n",
        "max_length=32\n",
        "trunc_type='post'\n",
        "padding_type='post'\n",
        "oov_tok='<OOV>'\n",
        "training_size=20000"
      ],
      "execution_count": 0,
      "outputs": []
    },
    {
      "cell_type": "code",
      "metadata": {
        "id": "lTlj32p96SeZ",
        "colab_type": "code",
        "colab": {
          "base_uri": "https://localhost:8080/",
          "height": 204
        },
        "outputId": "9eaebd0f-411d-4a41-dffd-61619ad8d7fa"
      },
      "source": [
        "!wget --no-check-certificate \\\n",
        "https://storage.googleapis.com/laurencemoroney-blog.appspot.com/sarcasm.json \\\n"
      ],
      "execution_count": 16,
      "outputs": [
        {
          "output_type": "stream",
          "text": [
            "--2020-01-30 05:23:18--  https://storage.googleapis.com/laurencemoroney-blog.appspot.com/sarcasm.json\n",
            "Resolving storage.googleapis.com (storage.googleapis.com)... 108.177.127.128, 2a00:1450:4013:c01::80\n",
            "Connecting to storage.googleapis.com (storage.googleapis.com)|108.177.127.128|:443... connected.\n",
            "HTTP request sent, awaiting response... 200 OK\n",
            "Length: 5643545 (5.4M) [application/json]\n",
            "Saving to: ‘sarcasm.json.1’\n",
            "\n",
            "\rsarcasm.json.1        0%[                    ]       0  --.-KB/s               \rsarcasm.json.1      100%[===================>]   5.38M  --.-KB/s    in 0.08s   \n",
            "\n",
            "2020-01-30 05:23:18 (64.4 MB/s) - ‘sarcasm.json.1’ saved [5643545/5643545]\n",
            "\n"
          ],
          "name": "stdout"
        }
      ]
    },
    {
      "cell_type": "code",
      "metadata": {
        "id": "14BY2Xqx-qDi",
        "colab_type": "code",
        "colab": {}
      },
      "source": [
        "import json"
      ],
      "execution_count": 0,
      "outputs": []
    },
    {
      "cell_type": "code",
      "metadata": {
        "id": "70SaohLd7nN1",
        "colab_type": "code",
        "colab": {}
      },
      "source": [
        "with open(\"sarcasm.json\", 'r') as f:\n",
        "  datastore = json.load(f)\n"
      ],
      "execution_count": 0,
      "outputs": []
    },
    {
      "cell_type": "code",
      "metadata": {
        "id": "vSgigkMq-uEl",
        "colab_type": "code",
        "colab": {
          "base_uri": "https://localhost:8080/",
          "height": 119
        },
        "outputId": "bf033c6b-42ec-414a-e696-cfe99699a504"
      },
      "source": [
        "datastore[0:2]"
      ],
      "execution_count": 23,
      "outputs": [
        {
          "output_type": "execute_result",
          "data": {
            "text/plain": [
              "[{'article_link': 'https://www.huffingtonpost.com/entry/versace-black-code_us_5861fbefe4b0de3a08f600d5',\n",
              "  'headline': \"former versace store clerk sues over secret 'black code' for minority shoppers\",\n",
              "  'is_sarcastic': 0},\n",
              " {'article_link': 'https://www.huffingtonpost.com/entry/roseanne-revival-review_us_5ab3a497e4b054d118e04365',\n",
              "  'headline': \"the 'roseanne' revival catches up to our thorny political mood, for better and worse\",\n",
              "  'is_sarcastic': 0}]"
            ]
          },
          "metadata": {
            "tags": []
          },
          "execution_count": 23
        }
      ]
    },
    {
      "cell_type": "code",
      "metadata": {
        "id": "Q4v7IF_O9o01",
        "colab_type": "code",
        "colab": {}
      },
      "source": [
        "sentences = []\n",
        "labels = []\n",
        "for item in datastore:\n",
        "  sentences.append(item['headline'])\n",
        "  labels.append(item['is_sarcastic'])"
      ],
      "execution_count": 0,
      "outputs": []
    },
    {
      "cell_type": "code",
      "metadata": {
        "id": "nEV4ZfMG9pU2",
        "colab_type": "code",
        "colab": {}
      },
      "source": [
        "training_sentences = sentences[0:training_size]\n",
        "training_labels = labels[0:training_size]\n",
        "testing_sentences = sentences[training_size:]\n",
        "testing_labels = labels[training_size:]"
      ],
      "execution_count": 0,
      "outputs": []
    },
    {
      "cell_type": "code",
      "metadata": {
        "id": "UnyzMZZq2wMd",
        "colab_type": "code",
        "colab": {}
      },
      "source": [
        "tokenizer = Tokenizer(num_words=vocab_size, oov_token=oov_tok)\n",
        "tokenizer.fit_on_texts(training_sentences)\n",
        "word_index = tokenizer.word_index\n",
        "\n",
        "training_sequence = tokenizer.texts_to_sequences(training_sentences)\n",
        "training_padded = pad_sequences(training_sequence,maxlen=max_length, padding=padding_type, truncating=trunc_type)\n",
        "\n",
        "testing_sequence = tokenizer.texts_to_sequences(testing_sentences)\n",
        "testing_padded = pad_sequences(testing_sequence, maxlen=max_length, padding= padding_type, truncating=trunc_type)\n"
      ],
      "execution_count": 0,
      "outputs": []
    },
    {
      "cell_type": "code",
      "metadata": {
        "id": "8tnD6SVC5chs",
        "colab_type": "code",
        "colab": {
          "base_uri": "https://localhost:8080/",
          "height": 462
        },
        "outputId": "81935225-a3fa-46b9-fb70-66c2438bbdac"
      },
      "source": [
        "model = tf.keras.Sequential([\n",
        "                             tf.keras.layers.Embedding(vocab_size,embedding_dim, input_length=max_length),\n",
        "                             tf.keras.layers.GlobalAveragePooling1D(),\n",
        "                             tf.keras.layers.Dense(24,activation='relu'),\n",
        "                             tf.keras.layers.Dense(1,activation='sigmoid')\n",
        "\n",
        "])\n",
        "\n",
        "model.compile(loss='binary_crossentropy',optimizer='adam',metrics=['accuracy'])\n",
        "model.summary()\n"
      ],
      "execution_count": 33,
      "outputs": [
        {
          "output_type": "stream",
          "text": [
            "WARNING:tensorflow:From /usr/local/lib/python3.6/dist-packages/tensorflow_core/python/keras/initializers.py:119: calling RandomUniform.__init__ (from tensorflow.python.ops.init_ops) with dtype is deprecated and will be removed in a future version.\n",
            "Instructions for updating:\n",
            "Call initializer instance with the dtype argument instead of passing it to the constructor\n",
            "WARNING:tensorflow:From /usr/local/lib/python3.6/dist-packages/tensorflow_core/python/ops/resource_variable_ops.py:1630: calling BaseResourceVariable.__init__ (from tensorflow.python.ops.resource_variable_ops) with constraint is deprecated and will be removed in a future version.\n",
            "Instructions for updating:\n",
            "If using Keras pass *_constraint arguments to layers.\n",
            "WARNING:tensorflow:From /usr/local/lib/python3.6/dist-packages/tensorflow_core/python/ops/nn_impl.py:183: where (from tensorflow.python.ops.array_ops) is deprecated and will be removed in a future version.\n",
            "Instructions for updating:\n",
            "Use tf.where in 2.0, which has the same broadcast rule as np.where\n",
            "Model: \"sequential_2\"\n",
            "_________________________________________________________________\n",
            "Layer (type)                 Output Shape              Param #   \n",
            "=================================================================\n",
            "embedding_2 (Embedding)      (None, 32, 16)            160000    \n",
            "_________________________________________________________________\n",
            "global_average_pooling1d (Gl (None, 16)                0         \n",
            "_________________________________________________________________\n",
            "dense (Dense)                (None, 24)                408       \n",
            "_________________________________________________________________\n",
            "dense_1 (Dense)              (None, 1)                 25        \n",
            "=================================================================\n",
            "Total params: 160,433\n",
            "Trainable params: 160,433\n",
            "Non-trainable params: 0\n",
            "_________________________________________________________________\n"
          ],
          "name": "stdout"
        }
      ]
    },
    {
      "cell_type": "code",
      "metadata": {
        "id": "4MaS9poE-K5J",
        "colab_type": "code",
        "colab": {
          "base_uri": "https://localhost:8080/",
          "height": 1000
        },
        "outputId": "7de2ef5a-39df-4c32-c044-fca7c0caf59e"
      },
      "source": [
        "num_epochs =30\n",
        "\n",
        "history = model.fit(training_padded,training_labels, epochs=num_epochs, validation_data=(testing_padded,testing_labels), verbose=2)"
      ],
      "execution_count": 34,
      "outputs": [
        {
          "output_type": "stream",
          "text": [
            "Train on 20000 samples, validate on 6709 samples\n",
            "Epoch 1/30\n",
            "20000/20000 - 3s - loss: 0.5786 - acc: 0.6905 - val_loss: 0.4138 - val_acc: 0.8325\n",
            "Epoch 2/30\n",
            "20000/20000 - 2s - loss: 0.3228 - acc: 0.8711 - val_loss: 0.3457 - val_acc: 0.8590\n",
            "Epoch 3/30\n",
            "20000/20000 - 2s - loss: 0.2395 - acc: 0.9064 - val_loss: 0.3423 - val_acc: 0.8560\n",
            "Epoch 4/30\n",
            "20000/20000 - 2s - loss: 0.1939 - acc: 0.9249 - val_loss: 0.3576 - val_acc: 0.8547\n",
            "Epoch 5/30\n",
            "20000/20000 - 2s - loss: 0.1608 - acc: 0.9412 - val_loss: 0.4202 - val_acc: 0.8343\n",
            "Epoch 6/30\n",
            "20000/20000 - 2s - loss: 0.1363 - acc: 0.9520 - val_loss: 0.4141 - val_acc: 0.8496\n",
            "Epoch 7/30\n",
            "20000/20000 - 2s - loss: 0.1166 - acc: 0.9592 - val_loss: 0.4509 - val_acc: 0.8456\n",
            "Epoch 8/30\n",
            "20000/20000 - 2s - loss: 0.1003 - acc: 0.9679 - val_loss: 0.4985 - val_acc: 0.8389\n",
            "Epoch 9/30\n",
            "20000/20000 - 2s - loss: 0.0880 - acc: 0.9715 - val_loss: 0.5446 - val_acc: 0.8328\n",
            "Epoch 10/30\n",
            "20000/20000 - 2s - loss: 0.0768 - acc: 0.9758 - val_loss: 0.5898 - val_acc: 0.8313\n",
            "Epoch 11/30\n",
            "20000/20000 - 2s - loss: 0.0663 - acc: 0.9797 - val_loss: 0.6372 - val_acc: 0.8269\n",
            "Epoch 12/30\n",
            "20000/20000 - 2s - loss: 0.0585 - acc: 0.9827 - val_loss: 0.6933 - val_acc: 0.8262\n",
            "Epoch 13/30\n",
            "20000/20000 - 2s - loss: 0.0505 - acc: 0.9852 - val_loss: 0.7568 - val_acc: 0.8223\n",
            "Epoch 14/30\n",
            "20000/20000 - 2s - loss: 0.0454 - acc: 0.9863 - val_loss: 0.8201 - val_acc: 0.8189\n",
            "Epoch 15/30\n",
            "20000/20000 - 2s - loss: 0.0390 - acc: 0.9894 - val_loss: 0.8861 - val_acc: 0.8177\n",
            "Epoch 16/30\n",
            "20000/20000 - 2s - loss: 0.0343 - acc: 0.9903 - val_loss: 0.9427 - val_acc: 0.8137\n",
            "Epoch 17/30\n",
            "20000/20000 - 2s - loss: 0.0301 - acc: 0.9916 - val_loss: 1.0072 - val_acc: 0.8152\n",
            "Epoch 18/30\n",
            "20000/20000 - 2s - loss: 0.0263 - acc: 0.9923 - val_loss: 1.0607 - val_acc: 0.8126\n",
            "Epoch 19/30\n",
            "20000/20000 - 2s - loss: 0.0234 - acc: 0.9937 - val_loss: 1.1339 - val_acc: 0.8149\n",
            "Epoch 20/30\n",
            "20000/20000 - 2s - loss: 0.0216 - acc: 0.9944 - val_loss: 1.1917 - val_acc: 0.8116\n",
            "Epoch 21/30\n",
            "20000/20000 - 2s - loss: 0.0183 - acc: 0.9952 - val_loss: 1.3007 - val_acc: 0.8085\n",
            "Epoch 22/30\n",
            "20000/20000 - 2s - loss: 0.0180 - acc: 0.9948 - val_loss: 1.3124 - val_acc: 0.8080\n",
            "Epoch 23/30\n",
            "20000/20000 - 2s - loss: 0.0148 - acc: 0.9960 - val_loss: 1.4078 - val_acc: 0.8076\n",
            "Epoch 24/30\n",
            "20000/20000 - 2s - loss: 0.0142 - acc: 0.9957 - val_loss: 1.4414 - val_acc: 0.8095\n",
            "Epoch 25/30\n",
            "20000/20000 - 2s - loss: 0.0118 - acc: 0.9972 - val_loss: 1.5170 - val_acc: 0.8062\n",
            "Epoch 26/30\n",
            "20000/20000 - 2s - loss: 0.0112 - acc: 0.9977 - val_loss: 1.5168 - val_acc: 0.8016\n",
            "Epoch 27/30\n",
            "20000/20000 - 2s - loss: 0.0103 - acc: 0.9976 - val_loss: 1.5992 - val_acc: 0.8062\n",
            "Epoch 28/30\n",
            "20000/20000 - 2s - loss: 0.0093 - acc: 0.9974 - val_loss: 1.6301 - val_acc: 0.8047\n",
            "Epoch 29/30\n",
            "20000/20000 - 2s - loss: 0.0098 - acc: 0.9974 - val_loss: 1.7170 - val_acc: 0.8031\n",
            "Epoch 30/30\n",
            "20000/20000 - 2s - loss: 0.0081 - acc: 0.9979 - val_loss: 1.7334 - val_acc: 0.8015\n"
          ],
          "name": "stdout"
        }
      ]
    },
    {
      "cell_type": "code",
      "metadata": {
        "id": "y7FLlu1qBOQu",
        "colab_type": "code",
        "colab": {}
      },
      "source": [
        "import warnings\n",
        "warnings.filterwarnings('ignore')"
      ],
      "execution_count": 0,
      "outputs": []
    },
    {
      "cell_type": "code",
      "metadata": {
        "id": "xRG_5JrqAARC",
        "colab_type": "code",
        "colab": {
          "base_uri": "https://localhost:8080/",
          "height": 541
        },
        "outputId": "4efea95f-2ef3-4499-f393-4ab06fcbc3fe"
      },
      "source": [
        "import matplotlib.pyplot as plt\n",
        "\n",
        "def plot_graphs(history, string):\n",
        "  plt.plot(history.history[string])\n",
        "  plt.plot(history.history['val_'+string])\n",
        "  plt.xlabel('Epochs')\n",
        "  plt.ylabel(string)\n",
        "  plt.legend([string,'val_'+string])\n",
        "  plt.show()\n",
        "\n",
        "plot_graphs(history,\"acc\")\n",
        "plot_graphs(history, \"loss\")"
      ],
      "execution_count": 41,
      "outputs": [
        {
          "output_type": "display_data",
          "data": {
            "image/png": "[encoded data removed]",
            "text/plain": [
              "<Figure size 432x288 with 1 Axes>"
            ]
          },
          "metadata": {
            "tags": []
          }
        },
        {
          "output_type": "display_data",
          "data": {
            "image/png": "[encoded data removed]",
            "text/plain": [
              "<Figure size 432x288 with 1 Axes>"
            ]
          },
          "metadata": {
            "tags": []
          }
        }
      ]
    },
    {
      "cell_type": "markdown",
      "metadata": {
        "id": "azT5eW2gCTJO",
        "colab_type": "text"
      },
      "source": [
        " Accuracy of trainig looks good but accuracy of validation doesn't look ok.\n",
        " Similarly, the loss of training is decreasing but , validation loss increases."
      ]
    },
    {
      "cell_type": "code",
      "metadata": {
        "id": "EPC6In5fBD13",
        "colab_type": "code",
        "colab": {}
      },
      "source": [
        ""
      ],
      "execution_count": 0,
      "outputs": []
    }
  ]
}